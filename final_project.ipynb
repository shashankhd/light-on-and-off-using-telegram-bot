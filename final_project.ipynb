{
  "nbformat": 4,
  "nbformat_minor": 0,
  "metadata": {
    "colab": {
      "name": "final project",
      "provenance": [],
      "authorship_tag": "ABX9TyMbyQLpEfmoAj/5ugxOsdEd",
      "include_colab_link": true
    },
    "kernelspec": {
      "name": "python3",
      "display_name": "Python 3"
    }
  },
  "cells": [
    {
      "cell_type": "markdown",
      "metadata": {
        "id": "view-in-github",
        "colab_type": "text"
      },
      "source": [
        "<a href=\"https://colab.research.google.com/github/shashankhd/light-on-and-off-using-telegram-bot/blob/master/final_project.ipynb\" target=\"_parent\"><img src=\"https://colab.research.google.com/assets/colab-badge.svg\" alt=\"Open In Colab\"/></a>"
      ]
    },
    {
      "cell_type": "code",
      "metadata": {
        "id": "CwaJzlLneiVm",
        "colab_type": "code",
        "colab": {
          "base_uri": "https://localhost:8080/",
          "height": 370
        },
        "outputId": "32610b20-66d7-4d60-b3b6-dfdc654700be"
      },
      "source": [
        "!pip install adafruit-io"
      ],
      "execution_count": 1,
      "outputs": [
        {
          "output_type": "stream",
          "text": [
            "Collecting adafruit-io\n",
            "\u001b[?25l  Downloading https://files.pythonhosted.org/packages/ea/0b/5f2b24a13d283f3b523f6878b571a41618072c9af72a0f66f49745c4485b/adafruit-io-2.4.0.tar.gz (50kB)\n",
            "\u001b[K     |████████████████████████████████| 51kB 1.5MB/s \n",
            "\u001b[?25hRequirement already satisfied: requests in /usr/local/lib/python3.6/dist-packages (from adafruit-io) (2.23.0)\n",
            "Collecting paho-mqtt\n",
            "\u001b[?25l  Downloading https://files.pythonhosted.org/packages/59/11/1dd5c70f0f27a88a3a05772cd95f6087ac479fac66d9c7752ee5e16ddbbc/paho-mqtt-1.5.0.tar.gz (99kB)\n",
            "\u001b[K     |████████████████████████████████| 102kB 3.9MB/s \n",
            "\u001b[?25hRequirement already satisfied: urllib3!=1.25.0,!=1.25.1,<1.26,>=1.21.1 in /usr/local/lib/python3.6/dist-packages (from requests->adafruit-io) (1.24.3)\n",
            "Requirement already satisfied: idna<3,>=2.5 in /usr/local/lib/python3.6/dist-packages (from requests->adafruit-io) (2.10)\n",
            "Requirement already satisfied: chardet<4,>=3.0.2 in /usr/local/lib/python3.6/dist-packages (from requests->adafruit-io) (3.0.4)\n",
            "Requirement already satisfied: certifi>=2017.4.17 in /usr/local/lib/python3.6/dist-packages (from requests->adafruit-io) (2020.6.20)\n",
            "Building wheels for collected packages: adafruit-io, paho-mqtt\n",
            "  Building wheel for adafruit-io (setup.py) ... \u001b[?25l\u001b[?25hdone\n",
            "  Created wheel for adafruit-io: filename=adafruit_io-2.4.0-cp36-none-any.whl size=20656 sha256=13a0c394f1446d8a05cfe0d6f509b2a572dc7dbbbb6d797abb595f199a9c0109\n",
            "  Stored in directory: /root/.cache/pip/wheels/05/e7/46/cd3dced11f962217204288f5faee41e56fbad8f7201f510619\n",
            "  Building wheel for paho-mqtt (setup.py) ... \u001b[?25l\u001b[?25hdone\n",
            "  Created wheel for paho-mqtt: filename=paho_mqtt-1.5.0-cp36-none-any.whl size=61415 sha256=9e34f6b38e2ae0a039d1de95baccd6c26c028b6300078ab2c0c8f00adbb7f505\n",
            "  Stored in directory: /root/.cache/pip/wheels/02/94/6c/8474137cb7a5a3e001d70a22c8ff919caee69435376bccce79\n",
            "Successfully built adafruit-io paho-mqtt\n",
            "Installing collected packages: paho-mqtt, adafruit-io\n",
            "Successfully installed adafruit-io-2.4.0 paho-mqtt-1.5.0\n"
          ],
          "name": "stdout"
        }
      ]
    },
    {
      "cell_type": "code",
      "metadata": {
        "id": "3IH7EDx2fmT9",
        "colab_type": "code",
        "colab": {}
      },
      "source": [
        "x = \"SHASHANKHD\" #ADAFRUIT_IO_USERNAME\n",
        "y = \"aio_fjQf44u5CtSBWTdNGxlbboYJz5oQ\"  #ADAFRUIT_IO_KEY"
      ],
      "execution_count": 2,
      "outputs": []
    },
    {
      "cell_type": "code",
      "metadata": {
        "id": "c24RjNygf_A0",
        "colab_type": "code",
        "colab": {}
      },
      "source": [
        "from Adafruit_IO import Client, Feed\n",
        "aio = Client(x,y)"
      ],
      "execution_count": 3,
      "outputs": []
    },
    {
      "cell_type": "code",
      "metadata": {
        "id": "R_rlSlRcgCso",
        "colab_type": "code",
        "colab": {}
      },
      "source": [
        "# Create a feed\n",
        "new = Feed(name='telebot')  # Feed name is given"
      ],
      "execution_count": 4,
      "outputs": []
    },
    {
      "cell_type": "code",
      "metadata": {
        "id": "h5gZWA64gPDS",
        "colab_type": "code",
        "colab": {}
      },
      "source": [
        "result = aio.create_feed(new)"
      ],
      "execution_count": 5,
      "outputs": []
    },
    {
      "cell_type": "code",
      "metadata": {
        "id": "KNBl-ahwgScD",
        "colab_type": "code",
        "colab": {
          "base_uri": "https://localhost:8080/",
          "height": 34
        },
        "outputId": "92ccf488-9fcd-4a09-b9b6-f5bb2900ccae"
      },
      "source": [
        "result"
      ],
      "execution_count": 6,
      "outputs": [
        {
          "output_type": "execute_result",
          "data": {
            "text/plain": [
              "Feed(name='telebot', key='telebot', description=None, unit_type=None, unit_symbol=None, history=True, visibility='private', license=None, status_notify=False, status_timeout=4320)"
            ]
          },
          "metadata": {
            "tags": []
          },
          "execution_count": 6
        }
      ]
    },
    {
      "cell_type": "code",
      "metadata": {
        "id": "-rdVc_D2hfMC",
        "colab_type": "code",
        "colab": {}
      },
      "source": [
        "from Adafruit_IO import Data\n",
        "# Sending a value to a feed\n",
        "value = Data(value=0)\n",
        "value_send = aio.create_data('telebot',value)"
      ],
      "execution_count": 8,
      "outputs": []
    },
    {
      "cell_type": "code",
      "metadata": {
        "id": "48nNUFhqiMb7",
        "colab_type": "code",
        "colab": {
          "base_uri": "https://localhost:8080/",
          "height": 252
        },
        "outputId": "102968c5-cadb-4767-d1a8-aa810a048a8d"
      },
      "source": [
        "!pip install python-telegram-bot"
      ],
      "execution_count": 9,
      "outputs": [
        {
          "output_type": "stream",
          "text": [
            "Collecting python-telegram-bot\n",
            "\u001b[?25l  Downloading https://files.pythonhosted.org/packages/a6/2d/c72fc9a28144277f6170f2fcbfd3bd9427943497522b2689846596eb86cf/python_telegram_bot-12.8-py2.py3-none-any.whl (375kB)\n",
            "\u001b[K     |████████████████████████████████| 378kB 2.6MB/s \n",
            "\u001b[?25hRequirement already satisfied: certifi in /usr/local/lib/python3.6/dist-packages (from python-telegram-bot) (2020.6.20)\n",
            "Collecting cryptography\n",
            "\u001b[?25l  Downloading https://files.pythonhosted.org/packages/c0/9c/647e559a6e8be493dc2a7a5d15d26cb501ca60ec299b356f23839a673a83/cryptography-3.1-cp35-abi3-manylinux2010_x86_64.whl (2.6MB)\n",
            "\u001b[K     |████████████████████████████████| 2.6MB 8.2MB/s \n",
            "\u001b[?25hRequirement already satisfied: tornado>=5.1 in /usr/local/lib/python3.6/dist-packages (from python-telegram-bot) (5.1.1)\n",
            "Requirement already satisfied: decorator>=4.4.0 in /usr/local/lib/python3.6/dist-packages (from python-telegram-bot) (4.4.2)\n",
            "Requirement already satisfied: cffi!=1.11.3,>=1.8 in /usr/local/lib/python3.6/dist-packages (from cryptography->python-telegram-bot) (1.14.2)\n",
            "Requirement already satisfied: six>=1.4.1 in /usr/local/lib/python3.6/dist-packages (from cryptography->python-telegram-bot) (1.15.0)\n",
            "Requirement already satisfied: pycparser in /usr/local/lib/python3.6/dist-packages (from cffi!=1.11.3,>=1.8->cryptography->python-telegram-bot) (2.20)\n",
            "Installing collected packages: cryptography, python-telegram-bot\n",
            "Successfully installed cryptography-3.1 python-telegram-bot-12.8\n"
          ],
          "name": "stdout"
        }
      ]
    },
    {
      "cell_type": "code",
      "metadata": {
        "id": "8XxalNiJiduh",
        "colab_type": "code",
        "colab": {
          "base_uri": "https://localhost:8080/",
          "height": 34
        },
        "outputId": "6854a3ac-5118-4462-ce60-d8e1878a846b"
      },
      "source": [
        "from telegram.ext import Updater,CommandHandler\n",
        "import requests  # Getting the data from the cloud\n",
        "\n",
        "\n",
        "def get_url():\n",
        "    contents = requests.get('https://random.dog/woof.json').json()\n",
        "    url = contents['url']\n",
        "    return url\n",
        "\n",
        "def on(bot,update):\n",
        "    url = get_url()\n",
        "    chat_id = update.message.chat_id\n",
        "    txt = 'ligth turned on'\n",
        "    pic = 'https://upload.wikimedia.org/wikipedia/commons/thumb/5/5d/Green_sphere.svg/1024px-Green_sphere.svg.png'\n",
        "    bot.send_message(chat_id, txt)\n",
        "    bot.send_photo(chat_id, pic)\n",
        "    from Adafruit_IO import Data\n",
        "    value = Data(value=1)\n",
        "    value_send = aio.create_data('telebot',value)\n",
        "\n",
        "def off(bot,update):\n",
        "    url = get_url()\n",
        "    chat_id = update.message.chat_id\n",
        "    txt = 'ligth turned off'\n",
        "    pic = 'https://encrypted-tbn0.gstatic.com/images?q=tbn%3AANd9GcTuueKIndqjMG0rlzPZrO0UUFP6ts8b_CrUIQ&usqp=CAU'\n",
        "    bot.send_message(chat_id, txt)\n",
        "    bot.send_photo(chat_id, pic)\n",
        "    from Adafruit_IO import Data\n",
        "    value = Data(value=0)\n",
        "    value_send = aio.create_data('telebot',value)\n",
        "\n",
        "u = Updater('1079697131:AAGGO7o9iW3dBE3ZPiUDCPQX11z4FmhRVwY')\n",
        "dp = u.dispatcher\n",
        "dp.add_handler(CommandHandler('on',on))\n",
        "dp.add_handler(CommandHandler('off',off))\n",
        "u.start_polling()\n",
        "u.idle()"
      ],
      "execution_count": 10,
      "outputs": [
        {
          "output_type": "stream",
          "text": [
            "/usr/local/lib/python3.6/dist-packages/ipykernel_launcher.py:32: TelegramDeprecationWarning: Old Handler API is deprecated - see https://git.io/fxJuV for details\n"
          ],
          "name": "stderr"
        }
      ]
    }
  ]
}